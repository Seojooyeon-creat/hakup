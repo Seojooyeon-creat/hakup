{
  "nbformat": 4,
  "nbformat_minor": 0,
  "metadata": {
    "colab": {
      "provenance": [],
      "include_colab_link": true
    },
    "kernelspec": {
      "name": "python3",
      "display_name": "Python 3"
    },
    "language_info": {
      "name": "python"
    }
  },
  "cells": [
    {
      "cell_type": "markdown",
      "metadata": {
        "id": "view-in-github",
        "colab_type": "text"
      },
      "source": [
        "<a href=\"https://colab.research.google.com/github/Seojooyeon-creat/hakup/blob/main/%EA%B4%84%ED%98%B8%20%EA%B2%80%EC%82%AC%EA%B8%B0.ipynb\" target=\"_parent\"><img src=\"https://colab.research.google.com/assets/colab-badge.svg\" alt=\"Open In Colab\"/></a>"
      ]
    },
    {
      "cell_type": "markdown",
      "source": [
        "# **주제: 괄호 검사기 프로그램**\n",
        "\n",
        "1.   항목 추가\n",
        "2.   항목 추가\n",
        "\n"
      ],
      "metadata": {
        "id": "UCCXYKY64fE9"
      }
    },
    {
      "cell_type": "markdown",
      "source": [
        "\n",
        "\n",
        "---\n",
        "\n",
        "\n",
        "\n",
        "---\n",
        "\n",
        "\n",
        "\n",
        "---\n",
        "\n"
      ],
      "metadata": {
        "id": "TlMd_9z3Cl7Y"
      }
    },
    {
      "cell_type": "markdown",
      "source": [
        "##**4단계: 정답 코드**"
      ],
      "metadata": {
        "id": "hefeXCdHCmFG"
      }
    },
    {
      "cell_type": "code",
      "execution_count": null,
      "metadata": {
        "id": "sZa-ctB84ZrZ",
        "colab": {
          "base_uri": "https://localhost:8080/"
        },
        "outputId": "38816f1a-cd5e-4770-860b-679437410ae9"
      },
      "outputs": [
        {
          "output_type": "stream",
          "name": "stdout",
          "text": [
            "테스트 1: \"()\" -> 유효함\n",
            "테스트 2: \"()[]{}\" -> 유효함\n",
            "테스트 3: \"(]\" -> 유효하지 않음\n",
            "테스트 4: \"([)]\" -> 유효하지 않음\n",
            "테스트 5: \"{[]}\" -> 유효함\n",
            "테스트 6: \"\" -> 유효함\n",
            "테스트 7: \"((()))\" -> 유효함\n",
            "테스트 8: \"(()\" -> 유효하지 않음\n",
            "테스트 9: \"))\" -> 유효하지 않음\n",
            "테스트 10: \"abc(def[ghi{jkl}mno]pqr)stu\" -> 유효함\n",
            "테스트 11: \"[(])\" -> 유효하지 않음\n"
          ]
        }
      ],
      "source": [
        "# 라이브러리 임포트 (typing 모듈 사용)\n",
        "from typing import List # 스택으로 사용할 리스트의 타입 힌트를 위해 List 임포트\n",
        "\n",
        "def is_valid_parentheses(s: str) -> bool:\n",
        "    \"\"\"\n",
        "    주어진 문자열 s의 괄호들이 유효한지 검사합니다.\n",
        "    유효한 괄호: '()', '[]', '{}'\n",
        "    \"\"\"\n",
        "    stack: List[str] = []  # 스택으로 사용할 리스트 (타입 힌트 사용)\n",
        "    mapping = {\")\": \"(\", \"]\": \"[\", \"}\": \"{\"} # 닫는 괄호와 매칭되는 여는 괄호\n",
        "\n",
        "    for char in s:\n",
        "        # 1. 여는 괄호인 경우: 스택에 추가\n",
        "        if char in \"([{\":\n",
        "            stack.append(char)\n",
        "        # 2. 닫는 괄호인 경우\n",
        "        elif char in \")]}\":\n",
        "            # 2-1. 스택이 비어있는데 닫는 괄호가 나오면 유효하지 않음\n",
        "            if not stack:\n",
        "                return False\n",
        "\n",
        "            # 2-2. 스택에서 가장 위의 여는 괄호를 꺼냄\n",
        "            top_element = stack.pop()\n",
        "\n",
        "            # 2-3. 꺼낸 여는 괄호와 현재 닫는 괄호가 짝이 맞지 않으면 유효하지 않음\n",
        "            if mapping[char] != top_element:\n",
        "                return False\n",
        "        # 3. 괄호가 아닌 다른 문자는 무시\n",
        "        else:\n",
        "            pass\n",
        "\n",
        "    # 문자열 순회가 끝난 후, 스택에 여는 괄호가 남아있으면 유효하지 않음\n",
        "    return not stack # 스택이 비어있으면 True, 아니면 False\n",
        "\n",
        "# 메인 실행 블록\n",
        "if __name__ == \"__main__\":\n",
        "    print(\"괄호 검사기 시작\")\n",
        "\n",
        "    test_cases = [\n",
        "        \"()\",          # True\n",
        "        \"()[]{}\",      # True\n",
        "        \"(]\",          # False\n",
        "        \"([)]\",        # False\n",
        "        \"{[]}\",        # True\n",
        "        \"\",            # True\n",
        "        \"((()))\",      # True\n",
        "        \"(()\",         # False\n",
        "        \"))\",          # False\n",
        "        \"abc(def[ghi{jkl}mno]pqr)stu\", # True\n",
        "        \"[(])\",        # False\n",
        "        \"   {   [()]   }   \", # True (공백 무시, 괄호만 검사)\n",
        "        \"(((((((((())))))))))\", # True\n",
        "        \"(((((((((()))))))))))\", # False (닫는 괄호 하나 더 많음)\n",
        "        \"(((((((((())))))))))(\", # False (여는 괄호 하나 더 많음)\n",
        "    ]\n",
        "\n",
        "    for i, tc in enumerate(test_cases):\n",
        "        result = is_valid_parentheses(tc)\n",
        "        print(f\"테스트 {i+1}: \\\"{tc}\\\" -> {'유효함' if result else '유효하지 않음'}\")\n",
        "\n",
        "    print(\"\\n사용자 입력 테스트:\")\n",
        "    while True:\n",
        "        user_input = input(\"괄호를 검사할 문자열을 입력하세요 (종료하려면 'exit' 입력): \")\n",
        "        if user_input.lower() == 'exit':\n",
        "            break\n",
        "        if is_valid_parentheses(user_input):\n",
        "            print(\" -> 유효함\")\n",
        "        else:\n",
        "            print(\" -> 유효하지 않음\")\n",
        "\n",
        "    print(\"괄호 검사기 종료\")"
      ]
    }
  ]
}