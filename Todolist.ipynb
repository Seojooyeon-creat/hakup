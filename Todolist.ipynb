{
  "nbformat": 4,
  "nbformat_minor": 0,
  "metadata": {
    "colab": {
      "provenance": [],
      "include_colab_link": true
    },
    "kernelspec": {
      "name": "python3",
      "display_name": "Python 3"
    },
    "language_info": {
      "name": "python"
    }
  },
  "cells": [
    {
      "cell_type": "markdown",
      "metadata": {
        "id": "view-in-github",
        "colab_type": "text"
      },
      "source": [
        "<a href=\"https://colab.research.google.com/github/Seojooyeon-creat/hakup/blob/main/Todolist.ipynb\" target=\"_parent\"><img src=\"https://colab.research.google.com/assets/colab-badge.svg\" alt=\"Open In Colab\"/></a>"
      ]
    },
    {
      "cell_type": "markdown",
      "source": [
        "#**주제:**"
      ],
      "metadata": {
        "id": "UCCXYKY64fE9"
      }
    },
    {
      "cell_type": "markdown",
      "source": [
        "## **0단계: 내가 부탁한 문제 출제 프롬프트**"
      ],
      "metadata": {
        "id": "OvPiFvcIDoBG"
      }
    },
    {
      "cell_type": "code",
      "source": [
        "'''\n",
        "간단한 To-Do 리스트 관리 프로그램을 파이썬으로 작성해줘.\n",
        "\n",
        "'''"
      ],
      "metadata": {
        "id": "XXuscv6pD3W3"
      },
      "execution_count": null,
      "outputs": []
    },
    {
      "cell_type": "markdown",
      "source": [
        "\n",
        "\n",
        "---\n",
        "\n",
        "\n",
        "\n",
        "---\n",
        "\n",
        "\n",
        "\n",
        "---\n",
        "\n",
        "\n"
      ],
      "metadata": {
        "id": "_Hstmb9t8Zg9"
      }
    },
    {
      "cell_type": "markdown",
      "source": [
        "## **1단계: 문제 설명**"
      ],
      "metadata": {
        "id": "5-WZPtEDRoRb"
      }
    },
    {
      "cell_type": "code",
      "source": [
        "'''\n",
        "    사용자가 자신의 할 일을 텍스트 기반으로 관리할 수 있는 간단한 To-Do 리스트 프로그램을 만듭니다.\n",
        "    이 프로그램은 사용자와의 상호작용을 통해 할 일을 추가하고, 현재 등록된 할 일 전체를 목록 형태로 보여주며,\n",
        "    특정 할 일을 선택하여 완료 상태로 변경할 수 있는 기능을 제공합니다.\n",
        "\n",
        "    각 할 일은 그 내용(문자열)과 완료 여부(불리언 값)를 가지며, 딕셔너리 형태로 표현됩니다.\n",
        "    모든 할 일들은 하나의 리스트에 순차적으로 저장되어 관리됩니다.\n",
        "\n",
        "    프로그램은 사용자에게 메뉴를 제시하고, 사용자의 선택에 따라 해당 기능을 수행합니다.\n",
        "    사용자가 메뉴에서 '종료'를 선택하기 전까지 프로그램은 계속 실행됩니다.\n",
        "    잘못된 입력(예: 완료할 할 일 번호 입력 시 숫자가 아닌 문자 입력)에 대해서는\n",
        "    간단한 안내 메시지를 출력하여 사용자에게 올바른 입력을 유도합니다.\n",
        "\n",
        "'''"
      ],
      "metadata": {
        "id": "uGkhUJb0RFwi"
      },
      "execution_count": null,
      "outputs": []
    },
    {
      "cell_type": "markdown",
      "source": [
        "---------------------------------------------------------------------------------"
      ],
      "metadata": {
        "id": "Xqr0j7FlCPhU"
      }
    },
    {
      "cell_type": "markdown",
      "source": [
        "## **2단계: 입출력 예시**"
      ],
      "metadata": {
        "id": "YZS5Cn8n8SIQ"
      }
    },
    {
      "cell_type": "code",
      "source": [
        "# 입력\n",
        "\"\"\"\n",
        "    (프로그램 시작 시 메뉴 출력)\n",
        "    ===== 간단 To-Do 리스트 =====\n",
        "    1. 할 일 추가\n",
        "    2. 할 일 목록 보기\n",
        "    3. 할 일 완료\n",
        "    4. 종료\n",
        "    ==========================\n",
        "    원하는 작업의 번호를 입력하세요: 1\n",
        "    추가할 할 일 내용을 입력하세요: 파이썬 공부하기\n",
        "\n",
        "    (메뉴 다시 출력)\n",
        "    원하는 작업의 번호를 입력하세요: 1\n",
        "    추가할 할 일 내용을 입력하세요: 장보기\n",
        "\n",
        "    (메뉴 다시 출력)\n",
        "    원하는 작업의 번호를 입력하세요: 2\n",
        "\n",
        "    (메뉴 다시 출력)\n",
        "    원하는 작업의 번호를 입력하세요: 3\n",
        "    (할 일 목록 자동 출력됨)\n",
        "    --- 나의 할 일 목록 ---\n",
        "    1. 파이썬 공부하기 [미완료]\n",
        "    2. 장보기 [미완료]\n",
        "    --------------------\n",
        "    완료 처리할 할 일의 번호를 입력하세요: 1\n",
        "\n",
        "    (메뉴 다시 출력)\n",
        "    원하는 작업의 번호를 입력하세요: 2\n",
        "\n",
        "    (메뉴 다시 출력)\n",
        "    원하는 작업의 번호를 입력하세요: 3\n",
        "    (할 일 목록 자동 출력됨)\n",
        "    --- 나의 할 일 목록 ---\n",
        "    1. 파이썬 공부하기 [완료]\n",
        "    2. 장보기 [미완료]\n",
        "    --------------------\n",
        "    완료 처리할 할 일의 번호를 입력하세요: abc\n",
        "\n",
        "    (메뉴 다시 출력)\n",
        "    원하는 작업의 번호를 입력하세요: 4\n",
        "    '''"
      ],
      "metadata": {
        "id": "tcyN_wV1SIC0"
      },
      "execution_count": null,
      "outputs": []
    },
    {
      "cell_type": "code",
      "source": [
        "# 출력\n",
        "\"\"\"\n",
        "    (프로그램 시작 시 메뉴 출력)\n",
        "    ===== 간단 To-Do 리스트 =====\n",
        "    1. 할 일 추가\n",
        "    2. 할 일 목록 보기\n",
        "    3. 할 일 완료\n",
        "    4. 종료\n",
        "    ==========================\n",
        "    원하는 작업의 번호를 입력하세요: 1\n",
        "    추가할 할 일 내용을 입력하세요: 파이썬 공부하기\n",
        "    '파이썬 공부하기' 할 일이 추가되었습니다.\n",
        "\n",
        "    (메뉴 다시 출력)\n",
        "    ===== 간단 To-Do 리스트 =====\n",
        "    ...\n",
        "    원하는 작업의 번호를 입력하세요: 1\n",
        "    추가할 할 일 내용을 입력하세요: 장보기\n",
        "    '장보기' 할 일이 추가되었습니다.\n",
        "\n",
        "    (메뉴 다시 출력)\n",
        "    ===== 간단 To-Do 리스트 =====\n",
        "    ...\n",
        "    원하는 작업의 번호를 입력하세요: 2\n",
        "    --- 나의 할 일 목록 ---\n",
        "    1. 파이썬 공부하기 [미완료]\n",
        "    2. 장보기 [미완료]\n",
        "    --------------------\n",
        "\n",
        "    (메뉴 다시 출력)\n",
        "    ===== 간단 To-Do 리스트 =====\n",
        "    ...\n",
        "    원하는 작업의 번호를 입력하세요: 3\n",
        "    --- 나의 할 일 목록 ---\n",
        "    1. 파이썬 공부하기 [미완료]\n",
        "    2. 장보기 [미완료]\n",
        "    --------------------\n",
        "    완료 처리할 할 일의 번호를 입력하세요: 1\n",
        "    '파이썬 공부하기' 할 일이 완료 처리되었습니다.\n",
        "\n",
        "    (메뉴 다시 출력)\n",
        "    ===== 간단 To-Do 리스트 =====\n",
        "    ...\n",
        "    원하는 작업의 번호를 입력하세요: 2\n",
        "    --- 나의 할 일 목록 ---\n",
        "    1. 파이썬 공부하기 [완료]\n",
        "    2. 장보기 [미완료]\n",
        "    --------------------\n",
        "\n",
        "    (메뉴 다시 출력)\n",
        "    ===== 간단 To-Do 리스트 =====\n",
        "    ...\n",
        "    원하는 작업의 번호를 입력하세요: 3\n",
        "    --- 나의 할 일 목록 ---\n",
        "    1. 파이썬 공부하기 [완료]\n",
        "    2. 장보기 [미완료]\n",
        "    --------------------\n",
        "    완료 처리할 할 일의 번호를 입력하세요: abc\n",
        "    잘못된 입력입니다. 숫자로 번호를 입력해주세요.\n",
        "\n",
        "    (메뉴 다시 출력)\n",
        "    ===== 간단 To-Do 리스트 =====\n",
        "    ...\n",
        "    원하는 작업의 번호를 입력하세요: 4\n",
        "    프로그램을 종료합니다.\n",
        "    '''"
      ],
      "metadata": {
        "id": "Aptt37WH8NSB",
        "colab": {
          "base_uri": "https://localhost:8080/",
          "height": 36
        },
        "outputId": "04c9cea1-ae20-4d19-c32d-a3dc5d0afd16"
      },
      "execution_count": null,
      "outputs": [
        {
          "output_type": "execute_result",
          "data": {
            "text/plain": [
              "'\\n=== 편의점 매출 분석 시스템 ===\\n오늘의 인기상품: 과자 (36,000원)\\n전체 매출: 106,500원\\n내일 추천상품: 과자\\n'"
            ],
            "application/vnd.google.colaboratory.intrinsic+json": {
              "type": "string"
            }
          },
          "metadata": {},
          "execution_count": 6
        }
      ]
    },
    {
      "cell_type": "markdown",
      "source": [
        "---------------------------------------------------------------------------------"
      ],
      "metadata": {
        "id": "ldagu-zcCQrz"
      }
    },
    {
      "cell_type": "markdown",
      "source": [
        "##**3단계: 필요 개념 정리**"
      ],
      "metadata": {
        "id": "jvkVVj4Q79mX"
      }
    },
    {
      "cell_type": "code",
      "source": [
        "# 함수 정의 및 호출: 프로그램의 기능을 모듈화하고 재사용하기 위해 함수를 정의(def)하고 호출하는 방법.\n",
        "    # 각 기능(할 일 추가, 목록 보기, 완료 처리, 메뉴 표시)을 별도의 함수로 구현."
      ],
      "metadata": {
        "id": "Mrosl3n-Smzk"
      },
      "execution_count": null,
      "outputs": []
    },
    {
      "cell_type": "code",
      "source": [
        "# 리스트(List) 자료구조: 여러 개의 할 일 딕셔너리를 순서대로 저장하고 관리하기 위해 사용.\n",
        "    # 예: todo_list = [{'task': '공부', 'completed': False}, {'task': '청소', 'completed': True}]\n",
        "    # 메서드: append() (새 할 일 추가 시)"
      ],
      "metadata": {
        "id": "gwNsfLZkSomi"
      },
      "execution_count": null,
      "outputs": []
    },
    {
      "cell_type": "code",
      "source": [
        "# 딕셔너리(Dictionary) 자료구조: 각 할 일의 상세 정보(내용, 완료 여부)를 키-값 쌍으로 저장하기 위해 사용.\n",
        "    # 예: task = {'task': '파이썬 복습', 'completed': False}\n",
        "    # 접근: 딕셔너리['키'] (할 일 내용 접근, 완료 상태 변경 시)"
      ],
      "metadata": {
        "id": "yOwFwgZySqOq"
      },
      "execution_count": null,
      "outputs": []
    },
    {
      "cell_type": "code",
      "source": [
        "# 반복문(for loop, while loop):\n",
        "    # - for loop: 할 일 목록(리스트)을 순회하며 각 할 일을 출력하거나 처리할 때 사용 (enumerate와 함께 사용하여 인덱스 접근).\n",
        "    # - while loop: 프로그램이 사용자의 '종료' 선택 전까지 계속 실행되도록 메인 루프를 구성할 때 사용."
      ],
      "metadata": {
        "id": "gxzbHAiYSr1N"
      },
      "execution_count": null,
      "outputs": []
    },
    {
      "cell_type": "code",
      "source": [
        "# 조건문(if-elif-else): 사용자의 메뉴 선택에 따라 다른 기능을 실행하거나, 입력값의 유효성을 검사하고,\n",
        "    # 할 일의 완료 상태에 따라 다른 문자열을 출력하는 등 다양한 조건에 따른 분기 처리를 위해 사용."
      ],
      "metadata": {
        "id": "FXyMBEQu_NlP"
      },
      "execution_count": null,
      "outputs": []
    },
    {
      "cell_type": "code",
      "source": [
        "# 문자열 메서드(String Methods):\n",
        "    # - isdigit(): 사용자가 입력한 문자열이 숫자로만 구성되어 있는지 확인하여 int() 변환 전 오류 방지."
      ],
      "metadata": {
        "id": "5GMEg-Jr_OAK"
      },
      "execution_count": null,
      "outputs": []
    },
    {
      "cell_type": "code",
      "source": [
        "# 전역 변수(Global Variable): 여러 함수에서 공유되어야 하는 데이터(예: todo_list)를 저장하기 위해 사용."
      ],
      "metadata": {
        "id": "gReiecQ3_Sdo"
      },
      "execution_count": null,
      "outputs": []
    },
    {
      "cell_type": "markdown",
      "source": [
        "---------------------------------------------------------------------------------"
      ],
      "metadata": {
        "id": "kS7BaE9OCRo0"
      }
    },
    {
      "cell_type": "markdown",
      "source": [
        "##**4단계: 정답 코드 길잡이**"
      ],
      "metadata": {
        "id": "BmOCDiNt5tug"
      }
    },
    {
      "cell_type": "code",
      "execution_count": null,
      "metadata": {
        "id": "sZa-ctB84ZrZ"
      },
      "outputs": [],
      "source": [
        "    # 1. 전역 리스트 'todo_list' 초기화: 프로그램 시작 시 할 일들을 저장할 빈 리스트를 생성합니다.\n",
        "    #    todo_list = []\n",
        "\n",
        "    # 2. 'add_task()' 함수 구현:\n",
        "    #    - input()으로 할 일 내용을 입력받습니다.\n",
        "    #    - 입력받은 내용과 'completed': False를 포함하는 딕셔너리를 만듭니다.\n",
        "    #    - 생성된 딕셔너리를 'todo_list'에 append() 합니다.\n",
        "    #    - 추가 완료 메시지를 print() 합니다.\n",
        "\n",
        "    # 3. 'view_tasks()' 함수 구현:\n",
        "    #    - 'todo_list'가 비어있는지 확인하고, 비어있으면 \"등록된 할 일이 없습니다.\"를 출력 후 종료합니다.\n",
        "    #    - for문과 enumerate()를 사용하여 'todo_list'를 순회합니다.\n",
        "    #    - 각 할 일 딕셔너리에서 'task'와 'completed' 값을 가져옵니다.\n",
        "    #    - 'completed' 값에 따라 \"[완료]\" 또는 \"[미완료]\" 문자열을 결정합니다.\n",
        "    #    - 순번(인덱스+1), 할 일 내용, 상태 문자열을 print() 합니다.\n",
        "\n",
        "    # 4. 'mark_task_complete()' 함수 구현:\n",
        "    #    - 먼저 view_tasks()를 호출하여 현재 목록을 보여줍니다.\n",
        "    #    - 'todo_list'가 비어있으면 함수를 종료합니다.\n",
        "    #    - input()으로 완료할 할 일의 번호를 문자열로 입력받습니다.\n",
        "    #    - 입력받은 문자열이 isdigit()인지 확인합니다.\n",
        "    #        - 숫자가 아니면, 오류 메시지를 print()하고 함수를 종료합니다.\n",
        "    #        - 숫자이면, int()로 변환합니다.\n",
        "    #    - 변환된 번호가 유효한 범위(1부터 리스트 길이까지)인지 확인합니다.\n",
        "    #        - 유효하지 않으면, 오류 메시지를 print()하고 함수를 종료합니다.\n",
        "    #        - 유효하면, 해당 인덱스(번호-1)의 할 일 딕셔너리를 가져옵니다.\n",
        "    #        - 해당 할 일의 'completed' 값을 True로 변경하고, 완료 메시지를 print() 합니다. (이미 완료된 경우도 처리)\n",
        "\n",
        "    # 5. 'display_menu()' 함수 구현:\n",
        "    #    - print()문을 사용하여 고정된 메뉴 옵션들을 화면에 출력합니다.\n",
        "\n",
        "    # 6. 메인 실행 로직 구현 (if __name__ == \"__main__\": 블록 또는 스크립트 최하단):\n",
        "    #    - while True: 로 무한 루프를 시작합니다.\n",
        "    #    - display_menu()를 호출합니다.\n",
        "    #    - input()으로 사용자로부터 메뉴 선택('choice')을 입력받습니다.\n",
        "    #    - if-elif-else 문을 사용하여 'choice' 값에 따라 각 함수를 호출합니다.\n",
        "    #        - '1': add_task() 호출\n",
        "    #        - '2': view_tasks() 호출\n",
        "    #        - '3': mark_task_complete() 호출\n",
        "    #        - '4': \"프로그램을 종료합니다.\" print() 후 break로 루프 탈출\n",
        "    #        - 그 외: \"잘못된 입력입니다.\" print()"
      ]
    },
    {
      "cell_type": "code",
      "source": [
        "# 할 일 목록을 저장할 리스트\n",
        "todo_list = []\n",
        "\n",
        "def add_task():\n",
        "    \"\"\"새로운 할 일을 목록에 추가하는 함수\"\"\"\n",
        "    task_description = input(\"추가할 할 일 내용을 입력하세요: \")\n",
        "    task = {'task': task_description, 'completed': False} # 딕셔너리로 할 일 생성\n",
        "    todo_list.append(task) # 리스트에 할 일 추가\n",
        "    print(f\"'{task_description}' 할 일이 추가되었습니다.\")\n",
        "\n",
        "def view_tasks():\n",
        "    \"\"\"현재까지 추가된 모든 할 일을 보여주는 함수\"\"\"\n",
        "    print(\"\\n--- 나의 할 일 목록 ---\")\n",
        "    if not todo_list: # 만약 할 일 목록이 비어있다면\n",
        "        print(\"등록된 할 일이 없습니다.\")\n",
        "        return\n",
        "\n",
        "    # 리스트의 각 할 일을 순서대로 보여주기 (인덱스를 번호로 사용)\n",
        "    for index, task_item in enumerate(todo_list):\n",
        "        status = \"완료\" if task_item['completed'] else \"미완료\" # 완료 여부에 따라 상태 표시\n",
        "        print(f\"{index + 1}. {task_item['task']} [{status}]\")\n",
        "    print(\"--------------------\")\n",
        "\n",
        "def mark_task_complete():\n",
        "    \"\"\"특정 할 일을 완료 상태로 변경하는 함수\"\"\"\n",
        "    view_tasks() # 먼저 현재 할 일 목록을 보여줌\n",
        "    if not todo_list: # 할 일이 없으면 함수 종료\n",
        "        return\n",
        "\n",
        "    task_number_str = input(\"완료 처리할 할 일의 번호를 입력하세요: \")\n",
        "\n",
        "    # 1. 입력받은 문자열이 숫자로만 이루어져 있는지 확인\n",
        "    if task_number_str.isdigit():\n",
        "        task_number = int(task_number_str) # 숫자로 변환\n",
        "\n",
        "        # 2. 사용자가 입력한 번호가 유효한 범위 내에 있는지 확인\n",
        "        if 1 <= task_number <= len(todo_list):\n",
        "            # 리스트 인덱스는 0부터 시작하므로, 사용자 입력 번호에서 1을 빼줌\n",
        "            task_to_mark = todo_list[task_number - 1]\n",
        "            if not task_to_mark['completed']:\n",
        "                task_to_mark['completed'] = True # 'completed' 값을 True로 변경\n",
        "                print(f\"'{task_to_mark['task']}' 할 일이 완료 처리되었습니다.\")\n",
        "            else:\n",
        "                print(f\"'{task_to_mark['task']}' 할 일은 이미 완료된 상태입니다.\")\n",
        "        else:\n",
        "            print(\"잘못된 번호입니다. 목록에 있는 번호를 입력해주세요.\")\n",
        "    else: # 숫자가 아닌 다른 것을 입력했을 때\n",
        "        print(\"잘못된 입력입니다. 숫자로 번호를 입력해주세요.\")\n",
        "\n",
        "def display_menu():\n",
        "    \"\"\"사용자에게 메뉴를 보여주는 함수\"\"\"\n",
        "    print(\"\\n===== 간단 To-Do 리스트 =====\")\n",
        "    print(\"1. 할 일 추가\")\n",
        "    print(\"2. 할 일 목록 보기\")\n",
        "    print(\"3. 할 일 완료\")\n",
        "    print(\"4. 종료\")\n",
        "    print(\"==========================\")\n",
        "\n",
        "\n",
        "while True: # 프로그램이 계속 실행되도록 무한 루프\n",
        "    display_menu()\n",
        "    choice = input(\"원하는 작업의 번호를 입력하세요: \")\n",
        "\n",
        "    if choice == '1':\n",
        "        add_task()\n",
        "    elif choice == '2':\n",
        "        view_tasks()\n",
        "    elif choice == '3':\n",
        "        mark_task_complete()\n",
        "    elif choice == '4':\n",
        "        print(\"프로그램을 종료합니다.\")\n",
        "        break # 무한 루프를 빠져나와 프로그램 종료\n",
        "    else:\n",
        "        print(\"잘못된 입력입니다. 메뉴에 있는 번호를 다시 입력해주세요.\")"
      ],
      "metadata": {
        "id": "wvyZQyJjY91n"
      },
      "execution_count": null,
      "outputs": []
    }
  ]
}