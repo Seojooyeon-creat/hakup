{
  "nbformat": 4,
  "nbformat_minor": 0,
  "metadata": {
    "colab": {
      "provenance": [],
      "include_colab_link": true
    },
    "kernelspec": {
      "name": "python3",
      "display_name": "Python 3"
    },
    "language_info": {
      "name": "python"
    }
  },
  "cells": [
    {
      "cell_type": "markdown",
      "metadata": {
        "id": "view-in-github",
        "colab_type": "text"
      },
      "source": [
        "<a href=\"https://colab.research.google.com/github/Seojooyeon-creat/hakup/blob/main/%EB%8D%A7%EC%85%88%20%EC%86%8D%EB%8F%84%20%EC%B8%A1%EC%A0%95.ipynb\" target=\"_parent\"><img src=\"https://colab.research.google.com/assets/colab-badge.svg\" alt=\"Open In Colab\"/></a>"
      ]
    },
    {
      "cell_type": "markdown",
      "source": [
        "# **주제: 🛡️ 게임 캐릭터 스킬 사용 관리 시스템 구현**"
      ],
      "metadata": {
        "id": "UCCXYKY64fE9"
      }
    },
    {
      "cell_type": "markdown",
      "source": [
        "\n",
        "\n",
        "---\n",
        "\n",
        "\n",
        "\n",
        "---\n",
        "\n",
        "\n",
        "##**📋 1단계: 문제 분석**"
      ],
      "metadata": {
        "id": "_Hstmb9t8Zg9"
      }
    },
    {
      "cell_type": "markdown",
      "source": [
        "###🎯 핵심 요구사항1: 입력"
      ],
      "metadata": {
        "id": "8EqykMEMADij"
      }
    },
    {
      "cell_type": "code",
      "source": [
        "#random.randint로 생성된 두개의 수가 출력되면 사용자가 두개를 더한 값을 사용자가 입력"
      ],
      "metadata": {
        "id": "W7YhCylyABlU"
      },
      "execution_count": null,
      "outputs": []
    },
    {
      "cell_type": "markdown",
      "source": [
        "###🎯 핵심 요구사항2: 처리"
      ],
      "metadata": {
        "id": "bSjflN3EASXi"
      }
    },
    {
      "cell_type": "code",
      "source": [
        "#만약 사용자가 입력한 값과 sum_result(정답)의 값이 같으면 \"정답입니다.\"와 경과 시간 출력\n",
        "#오답이면 오답이라고 출력, 경과 시간 출력"
      ],
      "metadata": {
        "id": "-TuJaRnVAWXS"
      },
      "execution_count": null,
      "outputs": []
    },
    {
      "cell_type": "markdown",
      "source": [
        "###🎯 핵심 요구사항3: 출력"
      ],
      "metadata": {
        "id": "-DZgK11DAc2P"
      }
    },
    {
      "cell_type": "code",
      "source": [
        "#만약 사용자가 입력한 값과 sum_result(정답)의 값이 같으면 \"정답입니다.\"와 경과 시간 출력\n",
        "#오답이면 오답이라고 출력, 경과 시간 출력"
      ],
      "metadata": {
        "id": "5DVK8WqxAhJE"
      },
      "execution_count": null,
      "outputs": []
    },
    {
      "cell_type": "markdown",
      "source": [
        "---------------------------------------------------------------------------------"
      ],
      "metadata": {
        "id": "bN8WccmvCBFg"
      }
    },
    {
      "cell_type": "markdown",
      "source": [
        "##🧩 2단계: 풀이 설계"
      ],
      "metadata": {
        "id": "wi_215afAWEw"
      }
    },
    {
      "cell_type": "markdown",
      "source": [
        "### 📐 함수 설계"
      ],
      "metadata": {
        "id": "8n_1cvk1A3y4"
      }
    },
    {
      "cell_type": "code",
      "source": [
        "# 함수1 = 덧셈로직\n",
        "\n",
        "# 함수2. = 덧셈 로직 호출 + 경과시간 출력 코드\n",
        "\n",
        "\n",
        "# main() = 시작 코드\n"
      ],
      "metadata": {
        "id": "Aptt37WH8NSB"
      },
      "execution_count": null,
      "outputs": []
    },
    {
      "cell_type": "markdown",
      "source": [
        "---------------------------------------------------------------------------------"
      ],
      "metadata": {
        "id": "xYY5vZyrCI66"
      }
    },
    {
      "cell_type": "markdown",
      "source": [
        "## 💻 3단계: 단계별 구현"
      ],
      "metadata": {
        "id": "jvkVVj4Q79mX"
      }
    },
    {
      "cell_type": "markdown",
      "source": [
        "### 🔧 Step 1: 기본 구조 작성"
      ],
      "metadata": {
        "id": "M1B2gWrbBXac"
      }
    },
    {
      "cell_type": "code",
      "source": [
        "import time\n",
        "import random\n",
        "\n",
        "#타이머 기능을 구현할 수 있는 함수가 무엇이 있는가?(monotonic?)\n",
        "\n",
        "#처음엔 그냥 함수 정의 없이 문제를 해결하려다, 확장성 등을 생각하여 덧셈 로직을 함수로 정의함.\n",
        "def plus():\n",
        "  number1=random.randint(1,99)\n",
        "  number2=random.randint(1,99)\n",
        "\n",
        "  print(f\"{number1}+{number2}의 값을 구하시오.\")\n",
        "\n",
        "  sum = int(number1 + number2)\n",
        "\n",
        "  answer = int(input(\"정답을 입력하세요.\"))\n",
        "\n",
        "  if sum == answer:\n",
        "    print(\"정답입니다.\")\n",
        "\n",
        "  else:\n",
        "    print(\"오답입니다.\")\n",
        "\n",
        "def main(): #원래 하나의 함수로 만드려 했으나, if __name__ == \"__main__\" main()을 활용하여 더 활용성을 높이기 위해 덧셈 로직 호출 + 경과시간 출력하는 로직을 하나 더 정의\n",
        "  start_time = time.monotonic()#시작시간\n",
        "\n",
        "  plus()#실행할 코드나 함수\n",
        "\n",
        "  end_time = time.monotonic()#끝시간\n",
        "\n",
        "  labtime = end_time - start_time#끝난시간에서 시작시간 빼면 경과시간\n",
        "  labtime2 = f\"{labtime:.2f}\"#경과시간 소수점 2자리까지 표현\n",
        "\n",
        "  print(\"경과 시간:\", labtime2)\n",
        "\n",
        "\n",
        "print(\"게임 종료\")\n",
        "\n",
        "\n",
        "\n",
        "\n",
        "\n",
        "if __name__ == \"__main__\":\n",
        "    main()"
      ],
      "metadata": {
        "id": "0Y-PWroJBXEJ",
        "colab": {
          "base_uri": "https://localhost:8080/"
        },
        "outputId": "5673d54b-0dd0-478e-a5a6-3f982851012f"
      },
      "execution_count": null,
      "outputs": [
        {
          "output_type": "stream",
          "name": "stdout",
          "text": [
            "94+72의 값을 구하시오.\n",
            "정답을 입력하세요.166\n",
            "정답입니다.\n",
            "경과 시간: 3.54\n",
            "게임 종료\n"
          ]
        }
      ]
    },
    {
      "cell_type": "markdown",
      "source": [
        "### 🔧 Step 2: 온도 체크 함수(온도, 스택)"
      ],
      "metadata": {
        "id": "dZaonbESBmkM"
      }
    },
    {
      "cell_type": "code",
      "source": [],
      "metadata": {
        "id": "TZvAYozBBsqU"
      },
      "execution_count": null,
      "outputs": []
    },
    {
      "cell_type": "markdown",
      "source": [
        "### 🔧 Step 3: 함수2. 안전온도 평균 계산 함수(스택)"
      ],
      "metadata": {
        "id": "GBqoUElFBsKA"
      }
    },
    {
      "cell_type": "code",
      "source": [],
      "metadata": {
        "id": "rsM3LnfxBjKW"
      },
      "execution_count": null,
      "outputs": []
    },
    {
      "cell_type": "markdown",
      "source": [
        "---------------------------------------------------------------------------------"
      ],
      "metadata": {
        "id": "oPEzQQYWCKEw"
      }
    },
    {
      "cell_type": "markdown",
      "source": [
        "##🧪 4단계: 코드 작성하기"
      ],
      "metadata": {
        "id": "Ufu8zTrDB7Gh"
      }
    },
    {
      "cell_type": "code",
      "source": [
        "import time\n",
        "import random\n",
        "\n",
        "#타이머 기능을 구현할 수 있는 함수가 무엇이 있는가?(monotonic?)\n",
        "\n",
        "#처음엔 그냥 함수 정의 없이 문제를 해결하려다, 확장성 등을 생각하여 덧셈 로직을 함수로 정의함.\n",
        "def plus():\n",
        "  number1=random.randint(1,99)\n",
        "  number2=random.randint(1,99)\n",
        "\n",
        "  print(f\"{number1}+{number2}의 값을 구하시오.\")\n",
        "\n",
        "  sum = int(number1 + number2)\n",
        "\n",
        "  answer = int(input(\"정답을 입력하세요.\"))\n",
        "\n",
        "  if sum == answer:\n",
        "    print(\"정답입니다.\")\n",
        "\n",
        "  else:\n",
        "    print(\"오답입니다.\")\n",
        "\n",
        "def main():\n",
        "  start_time = time.monotonic()#시작시간\n",
        "\n",
        "  plus()#실행할 코드나 함수\n",
        "\n",
        "  end_time = time.monotonic()#끝시간\n",
        "\n",
        "  labtime = end_time - start_time#끝난시간에서 시작시간 빼면 경과시간\n",
        "  labtime2 = f\"{labtime:.2f}\"#경과시간 소수점 2자리까지 표현\n",
        "\n",
        "  print(\"경과 시간:\", labtime2)\n",
        "\n",
        "\n",
        "print(\"게임 종료\")\n",
        "\n",
        "\n",
        "\n",
        "\n",
        "\n",
        "if __name__ == \"__main__\":\n",
        "    main()"
      ],
      "metadata": {
        "id": "h4RqF9TFB9aC"
      },
      "execution_count": null,
      "outputs": []
    }
  ]
}