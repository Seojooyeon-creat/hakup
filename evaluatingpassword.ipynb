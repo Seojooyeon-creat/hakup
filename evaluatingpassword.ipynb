{
  "nbformat": 4,
  "nbformat_minor": 0,
  "metadata": {
    "colab": {
      "provenance": [],
      "include_colab_link": true
    },
    "kernelspec": {
      "name": "python3",
      "display_name": "Python 3"
    },
    "language_info": {
      "name": "python"
    }
  },
  "cells": [
    {
      "cell_type": "markdown",
      "metadata": {
        "id": "view-in-github",
        "colab_type": "text"
      },
      "source": [
        "<a href=\"https://colab.research.google.com/github/Seojooyeon-creat/hakup/blob/main/evaluatingpassword.ipynb\" target=\"_parent\"><img src=\"https://colab.research.google.com/assets/colab-badge.svg\" alt=\"Open In Colab\"/></a>"
      ]
    },
    {
      "cell_type": "markdown",
      "source": [
        "#**주제:**"
      ],
      "metadata": {
        "id": "UCCXYKY64fE9"
      }
    },
    {
      "cell_type": "markdown",
      "source": [
        "## **0단계: 내가 부탁한 문제 출제 프롬프트**"
      ],
      "metadata": {
        "id": "OvPiFvcIDoBG"
      }
    },
    {
      "cell_type": "code",
      "source": [
        "'''\n",
        "조건:\n",
        "1. 주제: [정보보안 분야에서 쓰는 코드]\n",
        "2. 활용 개념: 딕셔너리 + 리스트 + 사용자정의함수 + 2개 라이브러리 + 반복문 + 조건문\n",
        "3. 코드 길이: 40줄 내외\n",
        "4. 난이도: 초급-중급\n",
        "5. 구조: 4단계로 구성\n",
        "   - 1단계: 문제 설명\n",
        "   - 2단계: 입출력 예시\n",
        "   - 3단계: 필요 개념 정리\n",
        "   - 4단계: 정답 코드\n",
        "6. 필수 요소:\n",
        "   - 딕셔너리와 리스트 활용\n",
        "   - 2개 라이브러리 사용\n",
        "   - 기능별 함수 나누어 작성\n",
        "   - 설명이 포함된 깔끔한 출력\n",
        "'''"
      ],
      "metadata": {
        "id": "XXuscv6pD3W3"
      },
      "execution_count": null,
      "outputs": []
    },
    {
      "cell_type": "markdown",
      "source": [
        "\n",
        "\n",
        "---\n",
        "\n",
        "\n",
        "\n",
        "---\n",
        "\n",
        "\n",
        "\n",
        "---\n",
        "\n",
        "\n"
      ],
      "metadata": {
        "id": "_Hstmb9t8Zg9"
      }
    },
    {
      "cell_type": "markdown",
      "source": [
        "## **1단계: 문제 설명**"
      ],
      "metadata": {
        "id": "5-WZPtEDRoRb"
      }
    },
    {
      "cell_type": "code",
      "source": [
        "'''\n",
        "정보보안 실무에 관심이 많은 학생입니다. 최근 기업의 고객 정보 유출 사고가 빈번하게 발생하면서,\n",
        "취약한 비밀번호를 사용하는 사용자들이 해킹에 노출되는 사례가 많아졌습니다.\n",
        "이에 따라 많은 기업과 웹사이트는 사용자의 비밀번호가 얼마나 안전한지 점검하는 시스템을 도입하고 있습니다.\n",
        "\n",
        "일반 사용자들은 대개 기억하기 쉬운 비밀번호(예: 123456, abc123, password 등)를 사용하는 경향이 있어,\n",
        "비밀번호 길이, 특수문자 포함 여부, 대소문자 조합 등 기준에 따라 보안 점수와 보안 등급을 자동으로 계산해주는 시스템이 필요합니다.\n",
        "\n",
        "시스템이 해결해야 할 문제:\n",
        "1. 여러 사용자가 입력한 비밀번호 리스트를 받아 분석\n",
        "2. 각 비밀번호의 보안 점수를 계산 (길이, 숫자, 대문자, 특수문자 포함 여부 등)\n",
        "3. 점수에 따라 \"약함\", \"보통\", \"강함\"으로 분류하여 사용자에게 피드백 제공\n",
        "4. 결과를 보기 좋게 정리하고 출력하여 보안 교육 자료로 활용 가능\n",
        "\n",
        "이 시스템은 딕셔너리와 리스트를 사용하여 비밀번호와 그 등급을 정리하며,\n",
        "정규표현식(`re`)과 문자 도구(`string`)를 활용하여 자동 점검 기능을 구현합니다.\n",
        "정보보안에 있어 기초적이지만 실무에서 자주 쓰이는 자동화 도구로 활용될 수 있습니다.\n",
        "\n",
        "'''"
      ],
      "metadata": {
        "id": "uGkhUJb0RFwi"
      },
      "execution_count": null,
      "outputs": []
    },
    {
      "cell_type": "markdown",
      "source": [
        "---------------------------------------------------------------------------------"
      ],
      "metadata": {
        "id": "Xqr0j7FlCPhU"
      }
    },
    {
      "cell_type": "markdown",
      "source": [
        "## **2단계: 입출력 예시**"
      ],
      "metadata": {
        "id": "YZS5Cn8n8SIQ"
      }
    },
    {
      "cell_type": "code",
      "source": [
        "# 입력\n",
        "passwords = [\"abc123\", \"Abc123!\", \"9@Bdfk#2Lm\", \"password\", \"Admin1\"]"
      ],
      "metadata": {
        "id": "tcyN_wV1SIC0"
      },
      "execution_count": null,
      "outputs": []
    },
    {
      "cell_type": "code",
      "source": [
        "# 출력\n",
        "=== 비밀번호 보안 점검 시스템 ===\n",
        "Password: abc123       → 점수: 0점 → 보안등급: 매우 약함\n",
        "Password: Abc123!      → 점수: 5점 → 보안등급: 보통\n",
        "Password: 9@Bdfk#2Lm   → 점수: 15점 → 보안등급: 매우 강함\n",
        "Password: password     → 점수: 3점 → 보안등급: 약함\n",
        "Password: Admin1       → 점수: 7점 → 보안등급: 보통"
      ],
      "metadata": {
        "id": "Aptt37WH8NSB",
        "colab": {
          "base_uri": "https://localhost:8080/",
          "height": 36
        },
        "outputId": "04c9cea1-ae20-4d19-c32d-a3dc5d0afd16"
      },
      "execution_count": null,
      "outputs": [
        {
          "output_type": "execute_result",
          "data": {
            "text/plain": [
              "'\\n=== 편의점 매출 분석 시스템 ===\\n오늘의 인기상품: 과자 (36,000원)\\n전체 매출: 106,500원\\n내일 추천상품: 과자\\n'"
            ],
            "application/vnd.google.colaboratory.intrinsic+json": {
              "type": "string"
            }
          },
          "metadata": {},
          "execution_count": 6
        }
      ]
    },
    {
      "cell_type": "markdown",
      "source": [
        "---------------------------------------------------------------------------------"
      ],
      "metadata": {
        "id": "ldagu-zcCQrz"
      }
    },
    {
      "cell_type": "markdown",
      "source": [
        "##**3단계: 필요 개념 정리**"
      ],
      "metadata": {
        "id": "jvkVVj4Q79mX"
      }
    },
    {
      "cell_type": "code",
      "source": [
        "# 딕셔너리 리스트 활용\n",
        "\n",
        "딕셔너리:\n",
        "비밀번호를 키로 사용\n",
        "해당 비밀번호의 점수와 등급 같은 여러 정보를 값으로 저장\n",
        "\n",
        "리스트:\n",
        "여러 비밀번호를 하나의 리스트로 묶음"
      ],
      "metadata": {
        "id": "snBgigDC79Uu"
      },
      "execution_count": null,
      "outputs": []
    },
    {
      "cell_type": "code",
      "source": [
        "# 사용자 정의 함수\n",
        "\n",
        "calculate_score(pw) 함수: 비밀번호의 길이, 문자 조합, 특수문자, 패턴을 분석해 점수를 계산\n",
        "get_grade(score) 함수: 점수를 받아 등급(매우 강함 ~ 매우 약함)으로 변환\n",
        "main() 함수: 프로그램의 전체 흐름을 구성하고 출력 담당"
      ],
      "metadata": {
        "id": "Mrosl3n-Smzk"
      },
      "execution_count": null,
      "outputs": []
    },
    {
      "cell_type": "code",
      "source": [
        "# 라이브러리 활용\n",
        "\n",
        "re:\n",
        "정규표현식을 사용하여 비밀번호 내 대문자 및 숫자 포함 여부를 판별\n",
        "보안 규칙 조건을 효율적으로 검사하는 데 사용\n",
        "\n",
        "itertools.groupby:\n",
        "연속된 동일 문자를 묶어서 반복 여부 판단에 사용\n",
        "같은 문자가 3개 이상 반복될 경우 감점 처리"
      ],
      "metadata": {
        "id": "gwNsfLZkSomi"
      },
      "execution_count": null,
      "outputs": []
    },
    {
      "cell_type": "code",
      "source": [
        "# 조건문과 반복문\n",
        "\n",
        "조건문:\n",
        "비밀번호 점수에 따라 \"매우 강함\", \"강함\", \"보통\", \"약함\", \"매우 약함\" 등급을 분류\n",
        "길이, 대문자 포함 여부, 숫자 포함 여부, 특수문자 포함 여부 등에 따라 점수를 조건적으로 누적\n",
        "\n",
        "반복문\n",
        "for pw in passwords: 반복문을 통해 비밀번호 리스트에 있는 모든 항목을 하나씩 점검\n",
        "groupby와 range()를 이용한 반복문으로 연속된 문자나 숫자, 반복된 문자 탐지"
      ],
      "metadata": {
        "id": "yOwFwgZySqOq"
      },
      "execution_count": null,
      "outputs": []
    },
    {
      "cell_type": "code",
      "source": [
        "# sum 함수 응용\n",
        "\n",
        "sum:\n",
        "1.비밀번호 점수 계산 시 각 조건에 대해 가산된 점수들을 리스트에 저장\n",
        "2.점수들을 모두 합산하여 최종 점수"
      ],
      "metadata": {
        "id": "gxzbHAiYSr1N"
      },
      "execution_count": null,
      "outputs": []
    },
    {
      "cell_type": "markdown",
      "source": [
        "---------------------------------------------------------------------------------"
      ],
      "metadata": {
        "id": "kS7BaE9OCRo0"
      }
    },
    {
      "cell_type": "markdown",
      "source": [
        "##**4단계: 정답 코드 길잡이**"
      ],
      "metadata": {
        "id": "BmOCDiNt5tug"
      }
    },
    {
      "cell_type": "code",
      "source": [
        "# 1. 필요한 라이브러리 불러오기:\n",
        "#    - re: 정규표현식을 이용해 대문자, 숫자 등 검색\n",
        "#    - groupby: 연속된 동일 문자를 그룹화하여 반복 여부 확인\n",
        "\n",
        "# 2. 비밀번호 리스트 생성:\n",
        "#    - 여러 개의 비밀번호를 리스트 형태로 저장\n",
        "\n",
        "# 3. 'calculate_score(pw)' 함수 정의:\n",
        "#    - 비밀번호의 보안 점수를 계산하는 함수\n",
        "#    - 변수 초기화: 점수(score), 소문자 변환(pw_lower), 길이(length)\n",
        "\n",
        "#    3-1. 길이에 따라 점수 부여\n",
        "#         - 12자 이상: 5점, 8자 이상: 3점, 5자 이상: 1점, 그 외: 0점\n",
        "\n",
        "#    3-2. 대문자 포함 여부 확인\n",
        "#         - 대문자 존재 시 3점 추가\n",
        "\n",
        "#    3-3. 숫자 포함 여부 확인\n",
        "#         - 숫자 존재 시 3점 추가\n",
        "\n",
        "#    3-4. 특수문자 가중치 점수 계산\n",
        "#         - 미리 정의한 딕셔너리에서 문자별 가중치\n"
      ],
      "metadata": {
        "colab": {
          "base_uri": "https://localhost:8080/"
        },
        "id": "MSa3gWzFsYoT",
        "outputId": "bd30fcaf-626b-426f-b457-8f5e9d819042"
      },
      "execution_count": null,
      "outputs": [
        {
          "output_type": "stream",
          "name": "stdout",
          "text": [
            "=== 비밀번호 보안 점검 시스템 ===\n",
            "Password: abc123       → 점수: 0점 → 보안등급: 매우 약함\n",
            "Password: Abc123!      → 점수: 5점 → 보안등급: 보통\n",
            "Password: 9@Bdfk#2Lm   → 점수: 15점 → 보안등급: 매우 강함\n",
            "Password: password     → 점수: 3점 → 보안등급: 약함\n",
            "Password: Admin1       → 점수: 7점 → 보안등급: 보통\n"
          ]
        }
      ]
    }
  ]
}